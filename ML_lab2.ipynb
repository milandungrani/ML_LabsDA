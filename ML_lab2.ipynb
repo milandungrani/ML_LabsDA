{
 "cells": [
  {
   "cell_type": "code",
   "execution_count": 1,
   "metadata": {},
   "outputs": [],
   "source": [
    "import numpy as np\n",
    "import matplotlib.pyplot as plt\n",
    "from mpl_toolkits.mplot3d import Axes3D\n",
    "import pandas as pd\n",
    "from sympy import Symbol"
   ]
  },
  {
   "cell_type": "code",
   "execution_count": 7,
   "metadata": {},
   "outputs": [
    {
     "name": "stdout",
     "output_type": "stream",
     "text": [
      "4.876837634171898e-10\n"
     ]
    }
   ],
   "source": [
    "curr=np.random.randint(10)+1\n",
    "rate=0.01\n",
    "lim=0.00000000001\n",
    "diff=1\n",
    "i=0\n",
    "df=lambda x:2*x\n",
    "\n",
    "while diff>lim:\n",
    "    prev=curr\n",
    "    curr=curr-rate*(df(prev))\n",
    "    diff=abs(curr-prev)\n",
    "print(curr)"
   ]
  },
  {
   "cell_type": "code",
   "execution_count": 49,
   "metadata": {},
   "outputs": [
    {
     "name": "stdout",
     "output_type": "stream",
     "text": [
      "23.71802087923254 -6.903811527571717\n"
     ]
    }
   ],
   "source": [
    "exf = pd.read_excel (r'/home/student/Downloads/data for Problem1.xlsx')\n",
    "y=exf.y\n",
    "x=(exf.x-exf.x.mean())/exf.x.std()\n",
    "\n",
    "curr1=np.random.randint(10)+1\n",
    "curr2=np.random.randint(10)+1\n",
    "rate=0.01\n",
    "lim=0.00001\n",
    "diff1=1\n",
    "diff2=1\n",
    "i=0\n",
    "n=len(x)\n",
    "def df1(curr1,curr2):\n",
    "    err=0\n",
    "    for it in range(0,n):\n",
    "        err+=(-2)*(y[it]-(curr1+(curr2)*x[it]))\n",
    "    return err\n",
    "\n",
    "def df2(curr1,curr2):\n",
    "    err=0\n",
    "    for it in range(0,n):\n",
    "        err+=(-2)*(y[it]-(curr1+(curr2)*x[it]))*x[it]\n",
    "    return err\n",
    "\n",
    "\n",
    "while diff1>lim and diff2>lim and i<10000:\n",
    "    prev1=curr1\n",
    "    prev2=curr2\n",
    "    curr1=curr1-rate*(df1(prev1,prev2))\n",
    "    curr2=curr2-rate*(df2(prev1,prev2))\n",
    "    diff1=abs(curr1-prev1)\n",
    "    diff2=abs(curr2-prev2)\n",
    "    i+=1\n",
    "print(curr1,curr2)"
   ]
  },
  {
   "cell_type": "code",
   "execution_count": 34,
   "metadata": {},
   "outputs": [
    {
     "name": "stdout",
     "output_type": "stream",
     "text": [
      "24.274725360238843 -6.6664702963680735\n"
     ]
    }
   ],
   "source": [
    "exf = pd.read_excel (r'/home/student/Downloads/data for Problem1.xlsx')\n",
    "y=exf.y\n",
    "x=(exf.x-exf.x.mean())/exf.x.std()\n",
    "\n",
    "curr1=np.random.randint(10)+1\n",
    "curr2=np.random.randint(10)+1\n",
    "rate=0.01\n",
    "lim=0.000001\n",
    "diff1=1\n",
    "diff2=1\n",
    "i=0\n",
    "n=len(x)\n",
    "def df1(curr1,curr2):\n",
    "    it=np.random.randint(n)\n",
    "    err=(-2)*(y[it]-(curr1+(curr2)*x[it]))\n",
    "    return err\n",
    "\n",
    "def df2(curr1,curr2):\n",
    "    it=np.random.randint(n)\n",
    "    err=(-2)*(y[it]-(curr1+(curr2)*x[it]))*x[it]\n",
    "    return err\n",
    "\n",
    "\n",
    "while diff1>lim and diff2>lim and i<10000:\n",
    "    prev1=curr1\n",
    "    prev2=curr2\n",
    "    curr1=curr1-rate*(df1(prev1,prev2))\n",
    "    curr2=curr2-rate*(df2(prev1,prev2))\n",
    "    diff1=abs(curr1-prev1)\n",
    "    diff2=abs(curr2-prev2)\n",
    "    i+=1\n",
    "print(curr1,curr2)"
   ]
  },
  {
   "cell_type": "code",
   "execution_count": 33,
   "metadata": {},
   "outputs": [
    {
     "name": "stdout",
     "output_type": "stream",
     "text": [
      "0.0\n"
     ]
    }
   ],
   "source": [
    "curr=np.random.randint(10)+1\n",
    "rate=0.01\n",
    "lim=0.00000000001\n",
    "diff=1\n",
    "i=0\n",
    "df=lambda x:2*x\n",
    "drate= lambda rate: 0.5\n",
    "\n",
    "while diff>lim:\n",
    "    prev=curr\n",
    "    curr=curr-rate*(df(prev))\n",
    "    rate=drate(rate)\n",
    "    diff=abs(curr-prev)\n",
    "print(curr)"
   ]
  },
  {
   "cell_type": "code",
   "execution_count": 50,
   "metadata": {},
   "outputs": [
    {
     "name": "stdout",
     "output_type": "stream",
     "text": [
      "23.71808510641254 -6.903816062077858 0.005335835860036041\n"
     ]
    }
   ],
   "source": [
    "exf = pd.read_excel (r'/home/student/Downloads/data for Problem1.xlsx')\n",
    "y=exf.y\n",
    "x=(exf.x-exf.x.mean())/exf.x.std()\n",
    "\n",
    "curr1=np.random.randint(10)+1\n",
    "curr2=np.random.randint(10)+1\n",
    "rate=0.01\n",
    "lim=0.000001\n",
    "diff1=1\n",
    "diff2=1\n",
    "i=0\n",
    "n=len(x)\n",
    "def df1(curr1,curr2):\n",
    "    err=0\n",
    "    for it in range(0,n):\n",
    "        err+=(-2)*(y[it]-(curr1+(curr2)*x[it]))\n",
    "    return err\n",
    "\n",
    "def df2(curr1,curr2):\n",
    "    err=0\n",
    "    for it in range(0,n):\n",
    "        err+=(-2)*(y[it]-(curr1+(curr2)*x[it]))*x[it]\n",
    "    return err\n",
    "\n",
    "def drate(rate,e0,e1,curr1,curr2):\n",
    "    f1=0\n",
    "    for it in range(0,n):\n",
    "        f1+=(2)*(y[it]-(curr1+(curr2)*x[it])+rate*(e0+e1*x[it]))*((e0+e1*x[it]))\n",
    "    f2=0\n",
    "    for it in range(0,n):\n",
    "        f2+=(2)*((e0+e1*x[it])**2)\n",
    "    return rate-(f1/f2)\n",
    "    \n",
    "\n",
    "while diff1>lim and diff2>lim and i<1000:\n",
    "    prev1=curr1\n",
    "    prev2=curr2\n",
    "    e0=df1(prev1,prev2)\n",
    "    e1=df2(prev1,prev2)\n",
    "    rate=drate(rate,e0,e1,curr1,curr2)\n",
    "    curr1=curr1-rate*(e0)\n",
    "    curr2=curr2-rate*(e1)\n",
    "    diff1=abs(curr1-prev1)\n",
    "    diff2=abs(curr2-prev2)\n",
    "    i+=1\n",
    "print(curr1,curr2,rate)"
   ]
  },
  {
   "cell_type": "code",
   "execution_count": null,
   "metadata": {},
   "outputs": [],
   "source": []
  }
 ],
 "metadata": {
  "kernelspec": {
   "display_name": "Python 3",
   "language": "python",
   "name": "python3"
  },
  "language_info": {
   "codemirror_mode": {
    "name": "ipython",
    "version": 3
   },
   "file_extension": ".py",
   "mimetype": "text/x-python",
   "name": "python",
   "nbconvert_exporter": "python",
   "pygments_lexer": "ipython3",
   "version": "3.7.1"
  }
 },
 "nbformat": 4,
 "nbformat_minor": 2
}
